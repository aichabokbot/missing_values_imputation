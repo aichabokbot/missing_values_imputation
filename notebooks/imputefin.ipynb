{
 "cells": [
  {
   "cell_type": "markdown",
   "metadata": {},
   "source": [
    "# Imputing Financial Data  \n",
    "\n",
    "Based on the paper at [this link](https://github.com/dppalomar/imputeFin).  \n",
    "Read how it works at [this link](https://cran.r-project.org/web/packages/imputeFin/vignettes/ImputeFinancialTimeSeries.html)."
   ]
  },
  {
   "cell_type": "code",
   "execution_count": null,
   "metadata": {},
   "outputs": [],
   "source": [
    "# install stable version from CRAN\n",
    "install.packages(\"imputeFin\")\n",
    "install.packages('data.table')"
   ]
  },
  {
   "cell_type": "code",
   "execution_count": null,
   "metadata": {},
   "outputs": [],
   "source": [
    "library(imputeFin)\n",
    "library(data.table)"
   ]
  },
  {
   "cell_type": "code",
   "execution_count": null,
   "metadata": {},
   "outputs": [],
   "source": [
    "# Import the data and look at the first six rows\n",
    "get_data <- function(){\n",
    "    dataset <- read.csv(file = '../data/data_set_challenge.csv')\n",
    "    rownames(dataset) <- dataset$Date\n",
    "    dataset$Date <- NULL\n",
    "    return(dataset)\n",
    "}\n",
    "\n",
    "dataset <- get_data()\n",
    "head(dataset)"
   ]
  },
  {
   "cell_type": "code",
   "execution_count": null,
   "metadata": {},
   "outputs": [],
   "source": [
    "x1 <- dataset$X1"
   ]
  },
  {
   "cell_type": "code",
   "execution_count": null,
   "metadata": {},
   "outputs": [],
   "source": [
    "plot_imputed(x1, title = \"Original time series with missing values and one outlier\")"
   ]
  },
  {
   "cell_type": "code",
   "execution_count": null,
   "metadata": {},
   "outputs": [],
   "source": [
    "y_imputed <- impute_AR1_t(x1, remove_outliers = FALSE)\n",
    "#> var c: 60 missing values imputed and 1 outliers detected and corrected.\n",
    "plot_imputed(y_imputed)"
   ]
  },
  {
   "cell_type": "code",
   "execution_count": null,
   "metadata": {},
   "outputs": [],
   "source": [
    "impute_column <- function(ts){\n",
    "    print(head(ts))\n",
    "    return(impute_AR1_t(ts, remove_outliers = FALSE, verbose = FALSE))\n",
    "}\n",
    "\n",
    "standardize_colname <- function(cn){\n",
    "    substr(cn, 2, 100)\n",
    "}\n"
   ]
  },
  {
   "cell_type": "markdown",
   "metadata": {},
   "source": [
    "# TODO\n",
    "\n",
    "- run on each time serie individually\n",
    "- create a submit file\n",
    "- make the code pretty since it's a code review"
   ]
  },
  {
   "cell_type": "code",
   "execution_count": null,
   "metadata": {},
   "outputs": [],
   "source": [
    "impute_data <- function(){\n",
    "    data <- dataset[, 0:5]\n",
    "    df <- cbind(row.names(data), data.frame(apply(data, 2, impute_column)))\n",
    "    colnames(df) <- c(\"Date\", unlist(lapply(list(colnames(data)), standardize_colname)))\n",
    "    return(df)\n",
    "}"
   ]
  },
  {
   "cell_type": "code",
   "execution_count": null,
   "metadata": {},
   "outputs": [],
   "source": [
    "df <- impute_data()"
   ]
  },
  {
   "cell_type": "code",
   "execution_count": null,
   "metadata": {
    "jupyter": {
     "outputs_hidden": true
    }
   },
   "outputs": [],
   "source": [
    "df"
   ]
  },
  {
   "cell_type": "code",
   "execution_count": null,
   "metadata": {},
   "outputs": [],
   "source": [
    "# write.csv(df, \"../data/r_submission.csv\")"
   ]
  },
  {
   "cell_type": "markdown",
   "metadata": {},
   "source": [
    "# RUN HERE"
   ]
  },
  {
   "cell_type": "code",
   "execution_count": null,
   "metadata": {},
   "outputs": [],
   "source": [
    "install.packages(c(\"imputeFin\", 'data.table', \"pbapply\", \"dplyr\"))"
   ]
  },
  {
   "cell_type": "code",
   "execution_count": null,
   "metadata": {},
   "outputs": [],
   "source": [
    "library(imputeFin)\n",
    "library(data.table)\n",
    "library(pbapply)\n",
    "library(dplyr)"
   ]
  },
  {
   "cell_type": "code",
   "execution_count": null,
   "metadata": {},
   "outputs": [],
   "source": [
    "# Import the data and look at the first six rows\n",
    "get_data <- function(){\n",
    "  dataset <- read.csv(file = '../data/data_set_challenge.csv')\n",
    "  rownames(dataset) <- dataset$Date\n",
    "  dataset$Date <- NULL\n",
    "  types <- read.csv(file = '../data/final_mapping_candidat.csv') %>% select(Type, mapping_id)\n",
    "  print(unique(types$Type))\n",
    "  indexes_fx_rates <- types %>% filter(Type %in% c(\"BOND\", \"STOCK\")) %>% pull(mapping_id)\n",
    "  dataset[indexes_fx_rates, ] <- log(dataset[indexes_fx_rates, ])\n",
    "  print(indexes_fx_rates)\n",
    "  return(dataset)\n",
    "}\n",
    "\n",
    "impute_column <- function(ts){\n",
    "  tryCatch(\n",
    "    {\n",
    "      return(exp(impute_AR1_t(ts, remove_outliers = FALSE, verbose = FALSE)))\n",
    "    },\n",
    "    error=function(err){\n",
    "      return(ts)\n",
    "    },\n",
    "    warning=function(w){\n",
    "      return(ts)\n",
    "    }\n",
    "  )\n",
    "  \n",
    "}\n",
    "\n",
    "standardize_colname <- function(cn){\n",
    "  substr(cn, 2, 100)\n",
    "}\n",
    "\n",
    "impute_data <- function(){\n",
    "  data <- dataset#[, 0:5]\n",
    "  df <- cbind(row.names(data), data.frame(pbapply(data, 2, impute_column)))\n",
    "  colnames(df) <- c(\"Date\", unlist(lapply(list(colnames(data)), standardize_colname)))\n",
    "  return(df)\n",
    "}"
   ]
  },
  {
   "cell_type": "code",
   "execution_count": null,
   "metadata": {},
   "outputs": [],
   "source": [
    "dataset <- get_data()\n",
    "print(dim(dataset))\n",
    "head(dataset)"
   ]
  },
  {
   "cell_type": "code",
   "execution_count": null,
   "metadata": {},
   "outputs": [],
   "source": [
    "df <- impute_data()"
   ]
  },
  {
   "cell_type": "code",
   "execution_count": null,
   "metadata": {},
   "outputs": [],
   "source": [
    "write.csv(df, \"../data/r_submission.csv\")"
   ]
  }
 ],
 "metadata": {
  "kernelspec": {
   "display_name": "R",
   "language": "R",
   "name": "ir"
  },
  "language_info": {
   "codemirror_mode": "r",
   "file_extension": ".r",
   "mimetype": "text/x-r-source",
   "name": "R",
   "pygments_lexer": "r",
   "version": "3.6.3"
  }
 },
 "nbformat": 4,
 "nbformat_minor": 4
}
